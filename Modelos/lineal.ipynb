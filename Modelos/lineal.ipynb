{
 "metadata": {
  "language_info": {
   "codemirror_mode": {
    "name": "ipython",
    "version": 3
   },
   "file_extension": ".py",
   "mimetype": "text/x-python",
   "name": "python",
   "nbconvert_exporter": "python",
   "pygments_lexer": "ipython3",
   "version": "3.8.5"
  },
  "orig_nbformat": 2,
  "kernelspec": {
   "name": "python3",
   "display_name": "Python 3.8.5 64-bit"
  },
  "metadata": {
   "interpreter": {
    "hash": "916dbcbb3f70747c44a77c7bcd40155683ae19c65e1c03b4aa3499c5328201f1"
   }
  },
  "interpreter": {
   "hash": "916dbcbb3f70747c44a77c7bcd40155683ae19c65e1c03b4aa3499c5328201f1"
  }
 },
 "nbformat": 4,
 "nbformat_minor": 2,
 "cells": [
  {
   "cell_type": "code",
   "execution_count": 1,
   "metadata": {},
   "outputs": [],
   "source": [
    "import numpy as np\n",
    "import pandas as pd"
   ]
  },
  {
   "cell_type": "code",
   "execution_count": 3,
   "metadata": {},
   "outputs": [
    {
     "output_type": "execute_result",
     "data": {
      "text/plain": [
       "   field1  field2\n",
       "0    17.5    76.2\n",
       "1    17.5    76.0\n",
       "2    17.4    76.1\n",
       "3    17.4    75.6\n",
       "4    32.3    36.1"
      ],
      "text/html": "<div>\n<style scoped>\n    .dataframe tbody tr th:only-of-type {\n        vertical-align: middle;\n    }\n\n    .dataframe tbody tr th {\n        vertical-align: top;\n    }\n\n    .dataframe thead th {\n        text-align: right;\n    }\n</style>\n<table border=\"1\" class=\"dataframe\">\n  <thead>\n    <tr style=\"text-align: right;\">\n      <th></th>\n      <th>field1</th>\n      <th>field2</th>\n    </tr>\n  </thead>\n  <tbody>\n    <tr>\n      <th>0</th>\n      <td>17.5</td>\n      <td>76.2</td>\n    </tr>\n    <tr>\n      <th>1</th>\n      <td>17.5</td>\n      <td>76.0</td>\n    </tr>\n    <tr>\n      <th>2</th>\n      <td>17.4</td>\n      <td>76.1</td>\n    </tr>\n    <tr>\n      <th>3</th>\n      <td>17.4</td>\n      <td>75.6</td>\n    </tr>\n    <tr>\n      <th>4</th>\n      <td>32.3</td>\n      <td>36.1</td>\n    </tr>\n  </tbody>\n</table>\n</div>"
     },
     "metadata": {},
     "execution_count": 3
    }
   ],
   "source": [
    "df = pd.read_csv('/home/edward/DataScience_Projects/Temp_vs_Hum/Modelos/feeds.csv', sep=',')\n",
    "\n",
    "var_df = df[['field1', 'field2']]\n",
    "var_df.head(5)"
   ]
  },
  {
   "cell_type": "code",
   "execution_count": 19,
   "metadata": {},
   "outputs": [
    {
     "output_type": "stream",
     "name": "stdout",
     "text": [
      "Everything Ok!\n20601.200000000004 69140.5 425926.9999999999 126110.11 1059 4800096.110000005\n"
     ]
    }
   ],
   "source": [
    "temp_data = var_df.field1.dropna().tolist()\n",
    "hum_data = var_df.field2.dropna().tolist()\n",
    "\n",
    "hum_mean = np.mean(hum_data)\n",
    "temp_mean = np.mean(temp_data)\n",
    "\n",
    "\n",
    "sum_x_y = 126110.11\n",
    "sum_x = sum(temp_data)\n",
    "sum_y = sum(hum_data)\n",
    "\n",
    "x_2 = []\n",
    "\n",
    "for j in temp_data:\n",
    "    x_2.append(j**2)\n",
    "\n",
    "y_2 = []\n",
    "\n",
    "for k in hum_data:\n",
    "    y_2.append(k**2)\n",
    "\n",
    "sum_x_2 = sum(x_2)\n",
    "\n",
    "sum_y_2 = sum(y_2)\n",
    "\n",
    "if len(temp_data) == len(hum_data):\n",
    "    print(\"Everything Ok!\")\n",
    "else:\n",
    "    print(\"Oh Oh!\")\n",
    "\n",
    "print(sum_x, sum_y, sum_x_2, sum_x_y, len(temp_data), sum_y_2)"
   ]
  }
 ]
}