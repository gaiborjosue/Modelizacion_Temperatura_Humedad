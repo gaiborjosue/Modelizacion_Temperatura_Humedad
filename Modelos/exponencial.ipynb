{
 "metadata": {
  "language_info": {
   "codemirror_mode": {
    "name": "ipython",
    "version": 3
   },
   "file_extension": ".py",
   "mimetype": "text/x-python",
   "name": "python",
   "nbconvert_exporter": "python",
   "pygments_lexer": "ipython3",
   "version": "3.8.5"
  },
  "orig_nbformat": 2,
  "kernelspec": {
   "name": "python385jvsc74a57bd0916dbcbb3f70747c44a77c7bcd40155683ae19c65e1c03b4aa3499c5328201f1",
   "display_name": "Python 3.8.5 64-bit"
  },
  "metadata": {
   "interpreter": {
    "hash": "916dbcbb3f70747c44a77c7bcd40155683ae19c65e1c03b4aa3499c5328201f1"
   }
  }
 },
 "nbformat": 4,
 "nbformat_minor": 2,
 "cells": [
  {
   "cell_type": "code",
   "execution_count": 1,
   "metadata": {},
   "outputs": [],
   "source": [
    "import numpy as np\n",
    "import pandas as pd\n"
   ]
  },
  {
   "cell_type": "code",
   "execution_count": 2,
   "metadata": {},
   "outputs": [
    {
     "output_type": "execute_result",
     "data": {
      "text/plain": [
       "   field1  field2\n",
       "0    17.5    76.2\n",
       "1    17.5    76.0\n",
       "2    17.4    76.1\n",
       "3    17.4    75.6\n",
       "4    32.3    36.1"
      ],
      "text/html": "<div>\n<style scoped>\n    .dataframe tbody tr th:only-of-type {\n        vertical-align: middle;\n    }\n\n    .dataframe tbody tr th {\n        vertical-align: top;\n    }\n\n    .dataframe thead th {\n        text-align: right;\n    }\n</style>\n<table border=\"1\" class=\"dataframe\">\n  <thead>\n    <tr style=\"text-align: right;\">\n      <th></th>\n      <th>field1</th>\n      <th>field2</th>\n    </tr>\n  </thead>\n  <tbody>\n    <tr>\n      <th>0</th>\n      <td>17.5</td>\n      <td>76.2</td>\n    </tr>\n    <tr>\n      <th>1</th>\n      <td>17.5</td>\n      <td>76.0</td>\n    </tr>\n    <tr>\n      <th>2</th>\n      <td>17.4</td>\n      <td>76.1</td>\n    </tr>\n    <tr>\n      <th>3</th>\n      <td>17.4</td>\n      <td>75.6</td>\n    </tr>\n    <tr>\n      <th>4</th>\n      <td>32.3</td>\n      <td>36.1</td>\n    </tr>\n  </tbody>\n</table>\n</div>"
     },
     "metadata": {},
     "execution_count": 2
    }
   ],
   "source": [
    "df = pd.read_csv('/root/ml_mate_exoplanet/Modelos/feeds.csv', sep=',')\n",
    "\n",
    "var_df = df[['field1', 'field2']]\n",
    "var_df.head(5)"
   ]
  },
  {
   "cell_type": "code",
   "execution_count": 3,
   "metadata": {},
   "outputs": [
    {
     "output_type": "stream",
     "name": "stdout",
     "text": [
      "11.032122040864344\n0.6943461037460795\n1059\n"
     ]
    }
   ],
   "source": [
    "temp_data = var_df.field1.dropna().tolist()\n",
    "hum_data = var_df.field2.dropna().tolist()\n",
    "\n",
    "hum_mean = np.mean(hum_data)\n",
    "\n",
    "def expo_func(x):\n",
    "    res = 150.132 * 0.955**x\n",
    "    return res\n",
    "\n",
    "y_hat_list = []\n",
    "for i in temp_data:\n",
    "    y_hat = y_hat_list.append(expo_func(i))\n",
    "\n",
    "def coef_deter():\n",
    "    for elem in y_hat_list:\n",
    "        num_elem = []\n",
    "        num_elem.append((elem - hum_mean)**2)\n",
    "\n",
    "    for elem2 in hum_data:\n",
    "        dem_elem = []\n",
    "        dem_elem.append((elem2 - hum_mean)**2)\n",
    "\n",
    "    return sum(num_elem) / sum(dem_elem)\n",
    "\n",
    "def error_coef():\n",
    "    pass\n",
    "\n",
    "res2 = []\n",
    "for j in y_hat_list:\n",
    "    res2.append(hum_mean-j)\n",
    "\n",
    "res3 = []\n",
    "for l in res2:\n",
    "    res3.append(abs(l))\n",
    "\n",
    "\n",
    "print(sum(res3) / 1059)\n",
    "    \n",
    "print(coef_deter())\n",
    "print(len(hum_data))"
   ]
  },
  {
   "cell_type": "code",
   "execution_count": 4,
   "metadata": {},
   "outputs": [
    {
     "output_type": "stream",
     "name": "stdout",
     "text": [
      "[69.75985134399603, 69.75985134399603, 70.12564829405204, 70.12564829405204, 32.16968561648458]\n0.4990121279185886\n1059\n"
     ]
    },
    {
     "output_type": "execute_result",
     "data": {
      "text/plain": [
       "44.10709865235942"
      ]
     },
     "metadata": {},
     "execution_count": 4
    }
   ],
   "source": [
    "import math\n",
    "temp_data = var_df.field1.dropna().tolist()\n",
    "hum_data = var_df.field2.dropna().tolist()\n",
    "\n",
    "hum_mean = np.mean(hum_data)\n",
    "\n",
    "def expo_func2(x):\n",
    "    res2 = 174.217 * math.e**(-0.0522996*x)\n",
    "    return res2\n",
    "\n",
    "y_hat_list2 = []\n",
    "\n",
    "for a in temp_data:\n",
    "    y_hat = y_hat_list2.append(expo_func2(a))\n",
    "print(y_hat_list2[0:5])\n",
    "\n",
    "def coef_deter2():\n",
    "    for elem3 in y_hat_list2:\n",
    "        num2_elem = []\n",
    "        num2_elem.append((elem3 - hum_mean)**2)\n",
    "\n",
    "    for elem4 in hum_data:\n",
    "        dem2_elem = []\n",
    "        dem2_elem.append((elem4 - hum_mean)**2)\n",
    "\n",
    "    return sum(num2_elem) / sum(dem2_elem)\n",
    "\n",
    "print(coef_deter2())\n",
    "print(len(hum_data))\n",
    "\n",
    "from sklearn.metrics import mean_squared_error\n",
    "mean_squared_error(hum_data, y_hat_list2)"
   ]
  },
  {
   "cell_type": "code",
   "execution_count": 6,
   "metadata": {},
   "outputs": [
    {
     "output_type": "stream",
     "name": "stdout",
     "text": [
      "9.5\n33.0\n30.0\n94.6\n"
     ]
    }
   ],
   "source": [
    "print(min(temp_data))\n",
    "print(max(temp_data))\n",
    "\n",
    "print(min(hum_data))\n",
    "print(max(hum_data))"
   ]
  }
 ]
}