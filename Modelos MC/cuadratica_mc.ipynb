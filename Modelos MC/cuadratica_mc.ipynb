{
 "cells": [
  {
   "cell_type": "code",
   "execution_count": 7,
   "metadata": {},
   "outputs": [],
   "source": [
    "import numpy as np\n",
    "import pandas as pd\n",
    "import matplotlib.pyplot as plt\n",
    "import math as m"
   ]
  },
  {
   "cell_type": "code",
   "execution_count": 8,
   "metadata": {},
   "outputs": [
    {
     "data": {
      "text/html": [
       "<div>\n",
       "<style scoped>\n",
       "    .dataframe tbody tr th:only-of-type {\n",
       "        vertical-align: middle;\n",
       "    }\n",
       "\n",
       "    .dataframe tbody tr th {\n",
       "        vertical-align: top;\n",
       "    }\n",
       "\n",
       "    .dataframe thead th {\n",
       "        text-align: right;\n",
       "    }\n",
       "</style>\n",
       "<table border=\"1\" class=\"dataframe\">\n",
       "  <thead>\n",
       "    <tr style=\"text-align: right;\">\n",
       "      <th></th>\n",
       "      <th>field1</th>\n",
       "      <th>field2</th>\n",
       "    </tr>\n",
       "  </thead>\n",
       "  <tbody>\n",
       "    <tr>\n",
       "      <th>0</th>\n",
       "      <td>17.5</td>\n",
       "      <td>76.2</td>\n",
       "    </tr>\n",
       "    <tr>\n",
       "      <th>1</th>\n",
       "      <td>17.5</td>\n",
       "      <td>76.0</td>\n",
       "    </tr>\n",
       "    <tr>\n",
       "      <th>2</th>\n",
       "      <td>17.4</td>\n",
       "      <td>76.1</td>\n",
       "    </tr>\n",
       "    <tr>\n",
       "      <th>3</th>\n",
       "      <td>17.4</td>\n",
       "      <td>75.6</td>\n",
       "    </tr>\n",
       "    <tr>\n",
       "      <th>4</th>\n",
       "      <td>32.3</td>\n",
       "      <td>36.1</td>\n",
       "    </tr>\n",
       "  </tbody>\n",
       "</table>\n",
       "</div>"
      ],
      "text/plain": [
       "   field1  field2\n",
       "0    17.5    76.2\n",
       "1    17.5    76.0\n",
       "2    17.4    76.1\n",
       "3    17.4    75.6\n",
       "4    32.3    36.1"
      ]
     },
     "execution_count": 8,
     "metadata": {},
     "output_type": "execute_result"
    }
   ],
   "source": [
    "df = pd.read_csv('D:\\HomeLab\\Temp_vs_Hum\\Dataset\\\\feeds.csv', sep=',')\n",
    "\n",
    "var_df = df[['field1', 'field2']]\n",
    "var_df.head(5)"
   ]
  },
  {
   "cell_type": "code",
   "execution_count": 9,
   "metadata": {},
   "outputs": [
    {
     "name": "stdout",
     "output_type": "stream",
     "text": [
      "c = 135.92871516135838\n",
      "b = -4.152016063982475\n",
      "a = 0.02518859800256229\n",
      "0.8445398853813652\n"
     ]
    },
    {
     "data": {
      "image/png": "[encoded data removed]",
      "text/plain": [
       "<Figure size 432x288 with 1 Axes>"
      ]
     },
     "metadata": {
      "needs_background": "light"
     },
     "output_type": "display_data"
    }
   ],
   "source": [
    "temp_datax = var_df.field1.dropna()\n",
    "hum_datay = var_df.field2.dropna()\n",
    "\n",
    "#compute the trend line\n",
    "coeff = np.poly1d(np.polyfit(temp_datax, hum_datay, 2))\n",
    "print(f\"c = {coeff[0]}\")\n",
    "print(f\"b = {coeff[1]}\")\n",
    "print(f\"a = {coeff[2]}\")\n",
    "\n",
    "temp_datax = np.asarray(temp_datax)\n",
    "\n",
    "Ttilde = np.polyval(coeff, temp_datax)\n",
    "\n",
    "residuals = hum_datay - Ttilde\n",
    "\n",
    "r2 = 1 - np.sum(residuals**2)/np.sum((hum_datay - np.mean(hum_datay))**2)\n",
    "\n",
    "print(r2)\n",
    "\n",
    "\n",
    "#create function iwth the coefficients\n",
    "def f(x):\n",
    "    return coeff[2]*x**2 + coeff[1]*x + coeff[0]\n",
    "\n",
    "predicted_hum_datay = []\n",
    "for i in temp_datax:\n",
    "    predicted_hum_datay.append(f(i))\n",
    "\n",
    "#Plot the original data vs the predicted data\n",
    "\n",
    "plt.plot(temp_datax, hum_datay, 'o', label='Original data')\n",
    "plt.plot(temp_datax, coeff(temp_datax), 'r', label='Predicted data')\n",
    "\n",
    "plt.legend()\n",
    "plt.show()"
   ]
  }
 ],
 "metadata": {
  "interpreter": {
   "hash": "5b85ab62a5c3e2fba3c064c81dff4f94ea21435a8b2c3f1692a524d0433bae4a"
  },
  "kernelspec": {
   "display_name": "Python 3.9.5 64-bit",
   "language": "python",
   "name": "python3"
  },
  "language_info": {
   "codemirror_mode": {
    "name": "ipython",
    "version": 3
   },
   "file_extension": ".py",
   "mimetype": "text/x-python",
   "name": "python",
   "nbconvert_exporter": "python",
   "pygments_lexer": "ipython3",
   "version": "3.9.5"
  },
  "orig_nbformat": 4
 },
 "nbformat": 4,
 "nbformat_minor": 2
}
