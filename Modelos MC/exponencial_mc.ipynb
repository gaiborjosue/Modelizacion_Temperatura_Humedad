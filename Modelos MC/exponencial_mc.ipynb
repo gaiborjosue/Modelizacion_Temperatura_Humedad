{
 "cells": [
  {
   "cell_type": "code",
   "execution_count": 27,
   "metadata": {},
   "outputs": [],
   "source": [
    "import numpy as np\n",
    "import pandas as pd\n",
    "import matplotlib.pyplot as plt\n",
    "import math as m"
   ]
  },
  {
   "cell_type": "code",
   "execution_count": 28,
   "metadata": {},
   "outputs": [
    {
     "data": {
      "text/html": [
       "<div>\n",
       "<style scoped>\n",
       "    .dataframe tbody tr th:only-of-type {\n",
       "        vertical-align: middle;\n",
       "    }\n",
       "\n",
       "    .dataframe tbody tr th {\n",
       "        vertical-align: top;\n",
       "    }\n",
       "\n",
       "    .dataframe thead th {\n",
       "        text-align: right;\n",
       "    }\n",
       "</style>\n",
       "<table border=\"1\" class=\"dataframe\">\n",
       "  <thead>\n",
       "    <tr style=\"text-align: right;\">\n",
       "      <th></th>\n",
       "      <th>field1</th>\n",
       "      <th>field2</th>\n",
       "    </tr>\n",
       "  </thead>\n",
       "  <tbody>\n",
       "    <tr>\n",
       "      <th>0</th>\n",
       "      <td>17.5</td>\n",
       "      <td>76.2</td>\n",
       "    </tr>\n",
       "    <tr>\n",
       "      <th>1</th>\n",
       "      <td>17.5</td>\n",
       "      <td>76.0</td>\n",
       "    </tr>\n",
       "    <tr>\n",
       "      <th>2</th>\n",
       "      <td>17.4</td>\n",
       "      <td>76.1</td>\n",
       "    </tr>\n",
       "    <tr>\n",
       "      <th>3</th>\n",
       "      <td>17.4</td>\n",
       "      <td>75.6</td>\n",
       "    </tr>\n",
       "    <tr>\n",
       "      <th>4</th>\n",
       "      <td>32.3</td>\n",
       "      <td>36.1</td>\n",
       "    </tr>\n",
       "  </tbody>\n",
       "</table>\n",
       "</div>"
      ],
      "text/plain": [
       "   field1  field2\n",
       "0    17.5    76.2\n",
       "1    17.5    76.0\n",
       "2    17.4    76.1\n",
       "3    17.4    75.6\n",
       "4    32.3    36.1"
      ]
     },
     "execution_count": 28,
     "metadata": {},
     "output_type": "execute_result"
    }
   ],
   "source": [
    "df = pd.read_csv('D:\\HomeLab\\Temp_vs_Hum\\Dataset\\\\feeds.csv', sep=',')\n",
    "\n",
    "var_df = df[['field1', 'field2']]\n",
    "var_df.head(5)"
   ]
  },
  {
   "cell_type": "code",
   "execution_count": 29,
   "metadata": {},
   "outputs": [
    {
     "name": "stdout",
     "output_type": "stream",
     "text": [
      "[-0.05247519  5.16448548]\n",
      "y = 174.93 * e** 0.052x\n"
     ]
    }
   ],
   "source": [
    "temp_datax = var_df.field1.dropna().tolist()\n",
    "hum_datay = var_df.field2.dropna().tolist()\n",
    "\n",
    "# log of hum_datay\n",
    "hum_datay_log = [np.log(i) for i in hum_datay]\n",
    "\n",
    "#fit the model\n",
    "fit = np.polyfit(temp_datax, np.log(hum_datay), 1)\n",
    "\n",
    "#view the output of the model\n",
    "print(fit)\n",
    "\n",
    "equation = f\"y = 174.93 * e** 0.052x\"\n",
    "\n",
    "print(equation)\n",
    "\n",
    "a = float(174.93)\n",
    "b = float(-0.05247)"
   ]
  },
  {
   "cell_type": "code",
   "execution_count": 30,
   "metadata": {},
   "outputs": [
    {
     "name": "stdout",
     "output_type": "stream",
     "text": [
      "[76.2, 76.0, 76.1, 75.6, 36.1]\n",
      "[69.83678620272482, 69.83678620272482, 70.20418284211434, 70.20418284211434, 32.12404752993326]\n"
     ]
    }
   ],
   "source": [
    "import math \n",
    "\n",
    "def eq(x, a, b):\n",
    "    return a * m.exp(b * x)\n",
    "\n",
    "hum_datay_pred = [eq(i, a, b) for i in temp_datax]\n",
    "\n",
    "print(hum_datay[0:5])\n",
    "print(hum_datay_pred[0:5])"
   ]
  },
  {
   "cell_type": "code",
   "execution_count": 33,
   "metadata": {},
   "outputs": [
    {
     "data": {
      "image/png": "[encoded data removed]",
      "text/plain": [
       "<Figure size 432x288 with 1 Axes>"
      ]
     },
     "metadata": {
      "needs_background": "light"
     },
     "output_type": "display_data"
    },
    {
     "name": "stdout",
     "output_type": "stream",
     "text": [
      "R-squared value: (0.8366590834992218, 5.1047009476544245, 44.1156174687834, 6.641958857805685)\n"
     ]
    }
   ],
   "source": [
    "#Calculate r squared value between hum_datay and hum_datay_pred\n",
    "def r_squared(y_actual, y_predicted):\n",
    "    numerator = sum([(y_actual[i] - y_predicted[i]) ** 2 for i in range(len(y_actual))])\n",
    "    denominator = sum([(y_actual[i] - np.mean(y_actual)) ** 2 for i in range(len(y_actual))])\n",
    "    r_squared = 1- (numerator / denominator)\n",
    "\n",
    "    #Calculate mean absolute error\n",
    "    mean_absolute_error = sum([abs(y_actual[i] - y_predicted[i]) for i in range(len(y_actual))]) / len(y_actual)\n",
    "\n",
    "    #Calculate mean squared error\n",
    "    mean_squared_error = sum([(y_actual[i] - y_predicted[i]) ** 2 for i in range(len(y_actual))]) / len(y_actual)\n",
    "\n",
    "    #Calculate standard error\n",
    "    standard_error = np.sqrt(mean_squared_error)\n",
    "\n",
    "    return r_squared, mean_absolute_error, mean_squared_error, standard_error\n",
    "\n",
    "\n",
    "#Plot hum_datay and hum_datay_pred\n",
    "plt.plot(temp_datax, hum_datay, 'o', label='Original Data')\n",
    "plt.plot(temp_datax, hum_datay_pred, 'o', label='Exponential Regression')\n",
    "plt.legend()\n",
    "plt.show()\n",
    "\n",
    "print(f\"R-squared value: {r_squared(hum_datay, hum_datay_pred)}\")\n",
    "\n"
   ]
  },
  {
   "cell_type": "code",
   "execution_count": 32,
   "metadata": {},
   "outputs": [
    {
     "name": "stdout",
     "output_type": "stream",
     "text": [
      "4388.1381423131725 = k20601.200000000004 + 1059L\n",
      "84043.99602079367 = k425926.9999999999 + 20601.200000000004L\n"
     ]
    }
   ],
   "source": [
    "# First equation\n",
    "def func1(x, y, z):\n",
    "    sum_v = []\n",
    "    k_sumx = []\n",
    "    n_l = 0\n",
    "\n",
    "    for i in range(len(z)):\n",
    "        sum_v.append(z[i])\n",
    "        k_sumx.append(x[i])\n",
    "        n_l += 1\n",
    "\n",
    "    return print(f\"{sum(sum_v)} = k{sum(k_sumx)} + {n_l}L\")\n",
    "\n",
    "func1(temp_datax, hum_datay, hum_datay_log)\n",
    "\n",
    "\n",
    "def func2(x, y, z):\n",
    "    x_times_z = []\n",
    "    for i in range(len(x)):\n",
    "        x_times_z.append(x[i] * z[i])\n",
    "    \n",
    "    k_sumx_squared = []\n",
    "    for i in range(len(x)):\n",
    "        k_sumx_squared.append(x[i] ** 2)\n",
    "    \n",
    "    l_times_sumx = []\n",
    "    for i in range(len(x)):\n",
    "        l_times_sumx.append(x[i])\n",
    "\n",
    "    return print(f\"{sum(x_times_z)} = k{sum(k_sumx_squared)} + {sum(l_times_sumx)}L\")\n",
    "\n",
    "func2(temp_datax, hum_datay, hum_datay_log)"
   ]
  }
 ],
 "metadata": {
  "interpreter": {
   "hash": "5b85ab62a5c3e2fba3c064c81dff4f94ea21435a8b2c3f1692a524d0433bae4a"
  },
  "kernelspec": {
   "display_name": "Python 3.9.5 64-bit",
   "language": "python",
   "name": "python3"
  },
  "language_info": {
   "codemirror_mode": {
    "name": "ipython",
    "version": 3
   },
   "file_extension": ".py",
   "mimetype": "text/x-python",
   "name": "python",
   "nbconvert_exporter": "python",
   "pygments_lexer": "ipython3",
   "version": "3.9.5"
  },
  "orig_nbformat": 4
 },
 "nbformat": 4,
 "nbformat_minor": 2
}
